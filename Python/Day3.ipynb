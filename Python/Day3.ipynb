{
 "cells": [
  {
   "cell_type": "markdown",
   "id": "facd7faa",
   "metadata": {},
   "source": [
    "#Task 1\n"
   ]
  },
  {
   "cell_type": "code",
   "execution_count": 10,
   "id": "bd0ad174",
   "metadata": {},
   "outputs": [
    {
     "name": "stdout",
     "output_type": "stream",
     "text": [
      "Before Multipy:\n",
      " [[1 2 3]\n",
      " [4 5 6]\n",
      " [7 8 9]]\n",
      "After Multiply:\n",
      " [[ 2  4  6]\n",
      " [ 8 10 12]\n",
      " [14 16 18]]\n"
     ]
    }
   ],
   "source": [
    "import numpy as np\n",
    "arr = np.array([[1,2,3],[4,5,6],[7,8,9]])\n",
    "arr2 = np.multiply(arr,2)\n",
    "print(\"Before Multipy:\\n\",arr)\n",
    "print(\"After Multiply:\\n\",arr2)"
   ]
  },
  {
   "cell_type": "code",
   "execution_count": 6,
   "id": "f321ec44",
   "metadata": {},
   "outputs": [
    {
     "name": "stdout",
     "output_type": "stream",
     "text": [
      "Before Multipy:\n",
      " [[[1 2 3]\n",
      "  [4 5 6]\n",
      "  [7 8 9]]]\n"
     ]
    }
   ],
   "source": [
    "print(\"Before Multipy:\\n\",arr)"
   ]
  },
  {
   "cell_type": "code",
   "execution_count": 7,
   "id": "84b19d42",
   "metadata": {},
   "outputs": [
    {
     "name": "stdout",
     "output_type": "stream",
     "text": [
      "After Multiply:\n",
      " [[[ 2  4  6]\n",
      "  [ 8 10 12]\n",
      "  [14 16 18]]]\n"
     ]
    }
   ],
   "source": [
    "print(\"After Multiply:\\n\",arr2)"
   ]
  },
  {
   "cell_type": "code",
   "execution_count": null,
   "id": "e66ddffa",
   "metadata": {},
   "outputs": [],
   "source": []
  },
  {
   "cell_type": "markdown",
   "id": "bc9feca4",
   "metadata": {},
   "source": [
    "#Task2"
   ]
  },
  {
   "cell_type": "markdown",
   "id": "3ee90c0a",
   "metadata": {},
   "source": []
  },
  {
   "cell_type": "code",
   "execution_count": 17,
   "id": "d2f46230",
   "metadata": {},
   "outputs": [
    {
     "name": "stdout",
     "output_type": "stream",
     "text": [
      "  product_name  price  quantity\n",
      "0    Product A  10.99        60\n",
      "1    Product B  15.49        40\n",
      "2    Product C   7.99       200\n",
      "3    Product D  12.49        30\n"
     ]
    }
   ],
   "source": [
    "import pandas as pd\n",
    "\n",
    "data = {\n",
    "    'product_name': ['Product A', 'Product B', 'Product C', 'Product D'],\n",
    "    'price': [10.99, 15.49, 7.99, 12.49],\n",
    "    'quantity': [60, 40, 200, 30]\n",
    "}\n",
    "\n",
    "df = pd.DataFrame(data)\n",
    "print(df)"
   ]
  },
  {
   "cell_type": "markdown",
   "id": "e71d97fc",
   "metadata": {},
   "source": [
    "#Task3\n"
   ]
  },
  {
   "cell_type": "code",
   "execution_count": 21,
   "id": "97c10a81",
   "metadata": {},
   "outputs": [
    {
     "name": "stdout",
     "output_type": "stream",
     "text": [
      "  product_name  price  quantity\n",
      "0    Product A  10.99        60\n",
      "2    Product C   7.99       200\n"
     ]
    }
   ],
   "source": [
    "datafilter = df[df['quantity'] > 50]\n",
    "print(datafilter)"
   ]
  }
 ],
 "metadata": {
  "kernelspec": {
   "display_name": "Python 3",
   "language": "python",
   "name": "python3"
  },
  "language_info": {
   "codemirror_mode": {
    "name": "ipython",
    "version": 3
   },
   "file_extension": ".py",
   "mimetype": "text/x-python",
   "name": "python",
   "nbconvert_exporter": "python",
   "pygments_lexer": "ipython3",
   "version": "3.13.7"
  }
 },
 "nbformat": 4,
 "nbformat_minor": 5
}
