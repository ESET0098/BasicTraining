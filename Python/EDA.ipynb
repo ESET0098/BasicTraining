{
 "cells": [
  {
   "cell_type": "code",
   "execution_count": 1,
   "id": "dde6ab34",
   "metadata": {},
   "outputs": [],
   "source": [
    "import numpy as np\n",
    "import matplotlib.pyplot as plt\n",
    "import pandas as pd\n"
   ]
  },
  {
   "cell_type": "code",
   "execution_count": 18,
   "id": "46fb2e1b",
   "metadata": {},
   "outputs": [],
   "source": [
    "data = pd.read_csv(r\"C:\\Users\\PC\\Downloads\\datasets.csv\")"
   ]
  },
  {
   "cell_type": "code",
   "execution_count": 19,
   "id": "c96b2016",
   "metadata": {},
   "outputs": [
    {
     "data": {
      "text/html": [
       "<div>\n",
       "<style scoped>\n",
       "    .dataframe tbody tr th:only-of-type {\n",
       "        vertical-align: middle;\n",
       "    }\n",
       "\n",
       "    .dataframe tbody tr th {\n",
       "        vertical-align: top;\n",
       "    }\n",
       "\n",
       "    .dataframe thead th {\n",
       "        text-align: right;\n",
       "    }\n",
       "</style>\n",
       "<table border=\"1\" class=\"dataframe\">\n",
       "  <thead>\n",
       "    <tr style=\"text-align: right;\">\n",
       "      <th></th>\n",
       "      <th>datasetName</th>\n",
       "      <th>about</th>\n",
       "      <th>link</th>\n",
       "      <th>categoryName</th>\n",
       "      <th>cloud</th>\n",
       "      <th>vintage</th>\n",
       "    </tr>\n",
       "  </thead>\n",
       "  <tbody>\n",
       "    <tr>\n",
       "      <th>55</th>\n",
       "      <td>ClueWeb09 FACC</td>\n",
       "      <td>ClueWeb09 FACC</td>\n",
       "      <td>http://lemurproject.org/clueweb09/FACC1/</td>\n",
       "      <td>Natural Language</td>\n",
       "      <td>NaN</td>\n",
       "      <td>2009.0</td>\n",
       "    </tr>\n",
       "    <tr>\n",
       "      <th>56</th>\n",
       "      <td>ClueWeb12 FACC</td>\n",
       "      <td>ClueWeb12 FACC</td>\n",
       "      <td>http://lemurproject.org/clueweb12/FACC1/</td>\n",
       "      <td>Natural Language</td>\n",
       "      <td>NaN</td>\n",
       "      <td>2012.0</td>\n",
       "    </tr>\n",
       "    <tr>\n",
       "      <th>57</th>\n",
       "      <td>Google Ngrams</td>\n",
       "      <td>Google Books Ngrams (2.2TB)</td>\n",
       "      <td>https://aws.amazon.com/datasets/google-books-n...</td>\n",
       "      <td>Natural Language</td>\n",
       "      <td>Amazon</td>\n",
       "      <td>NaN</td>\n",
       "    </tr>\n",
       "    <tr>\n",
       "      <th>58</th>\n",
       "      <td>EDRM Enron</td>\n",
       "      <td>EDRM Enron EMail of 151 users, hosted on S3</td>\n",
       "      <td>https://aws.amazon.com/datasets/enron-email-data/</td>\n",
       "      <td>Social Networks</td>\n",
       "      <td>Amazon</td>\n",
       "      <td>NaN</td>\n",
       "    </tr>\n",
       "    <tr>\n",
       "      <th>59</th>\n",
       "      <td>GetGlue</td>\n",
       "      <td>GetGlue - users rating TV shows</td>\n",
       "      <td>http://getglue-data.s3.amazonaws.com/getglue_s...</td>\n",
       "      <td>Social Networks</td>\n",
       "      <td>NaN</td>\n",
       "      <td>NaN</td>\n",
       "    </tr>\n",
       "    <tr>\n",
       "      <th>60</th>\n",
       "      <td>Twitter RepLab</td>\n",
       "      <td>Twitter Data for Online Reputation Management</td>\n",
       "      <td>http://nlp.uned.es/replab2013/</td>\n",
       "      <td>Social Networks</td>\n",
       "      <td>NaN</td>\n",
       "      <td>2013.0</td>\n",
       "    </tr>\n",
       "  </tbody>\n",
       "</table>\n",
       "</div>"
      ],
      "text/plain": [
       "       datasetName                                          about  \\\n",
       "55  ClueWeb09 FACC                                 ClueWeb09 FACC   \n",
       "56  ClueWeb12 FACC                                 ClueWeb12 FACC   \n",
       "57   Google Ngrams                    Google Books Ngrams (2.2TB)   \n",
       "58      EDRM Enron    EDRM Enron EMail of 151 users, hosted on S3   \n",
       "59         GetGlue                GetGlue - users rating TV shows   \n",
       "60  Twitter RepLab  Twitter Data for Online Reputation Management   \n",
       "\n",
       "                                                 link      categoryName  \\\n",
       "55           http://lemurproject.org/clueweb09/FACC1/  Natural Language   \n",
       "56           http://lemurproject.org/clueweb12/FACC1/  Natural Language   \n",
       "57  https://aws.amazon.com/datasets/google-books-n...  Natural Language   \n",
       "58  https://aws.amazon.com/datasets/enron-email-data/   Social Networks   \n",
       "59  http://getglue-data.s3.amazonaws.com/getglue_s...   Social Networks   \n",
       "60                     http://nlp.uned.es/replab2013/   Social Networks   \n",
       "\n",
       "     cloud  vintage  \n",
       "55     NaN   2009.0  \n",
       "56     NaN   2012.0  \n",
       "57  Amazon      NaN  \n",
       "58  Amazon      NaN  \n",
       "59     NaN      NaN  \n",
       "60     NaN   2013.0  "
      ]
     },
     "execution_count": 19,
     "metadata": {},
     "output_type": "execute_result"
    }
   ],
   "source": [
    "data.tail(6)"
   ]
  },
  {
   "cell_type": "code",
   "execution_count": 20,
   "id": "306d5046",
   "metadata": {},
   "outputs": [
    {
     "data": {
      "text/plain": [
       "(61, 6)"
      ]
     },
     "execution_count": 20,
     "metadata": {},
     "output_type": "execute_result"
    }
   ],
   "source": [
    "data.shape"
   ]
  },
  {
   "cell_type": "code",
   "execution_count": 21,
   "id": "28635b5f",
   "metadata": {},
   "outputs": [
    {
     "data": {
      "text/plain": [
       "datasetName      object\n",
       "about            object\n",
       "link             object\n",
       "categoryName     object\n",
       "cloud            object\n",
       "vintage         float64\n",
       "dtype: object"
      ]
     },
     "execution_count": 21,
     "metadata": {},
     "output_type": "execute_result"
    }
   ],
   "source": [
    "data.dtypes"
   ]
  },
  {
   "cell_type": "code",
   "execution_count": 22,
   "id": "dcf1c9b7",
   "metadata": {},
   "outputs": [
    {
     "name": "stdout",
     "output_type": "stream",
     "text": [
      "<class 'pandas.core.frame.DataFrame'>\n",
      "RangeIndex: 61 entries, 0 to 60\n",
      "Data columns (total 6 columns):\n",
      " #   Column        Non-Null Count  Dtype  \n",
      "---  ------        --------------  -----  \n",
      " 0   datasetName   61 non-null     object \n",
      " 1   about         61 non-null     object \n",
      " 2   link          61 non-null     object \n",
      " 3   categoryName  61 non-null     object \n",
      " 4   cloud         24 non-null     object \n",
      " 5   vintage       31 non-null     float64\n",
      "dtypes: float64(1), object(5)\n",
      "memory usage: 3.0+ KB\n"
     ]
    }
   ],
   "source": [
    "data.info()"
   ]
  },
  {
   "cell_type": "code",
   "execution_count": 23,
   "id": "0d7740de",
   "metadata": {},
   "outputs": [],
   "source": [
    "data = data.drop(['datasetName'], axis=1)"
   ]
  },
  {
   "cell_type": "code",
   "execution_count": 15,
   "id": "797d95d1",
   "metadata": {},
   "outputs": [
    {
     "data": {
      "text/html": [
       "<div>\n",
       "<style scoped>\n",
       "    .dataframe tbody tr th:only-of-type {\n",
       "        vertical-align: middle;\n",
       "    }\n",
       "\n",
       "    .dataframe tbody tr th {\n",
       "        vertical-align: top;\n",
       "    }\n",
       "\n",
       "    .dataframe thead th {\n",
       "        text-align: right;\n",
       "    }\n",
       "</style>\n",
       "<table border=\"1\" class=\"dataframe\">\n",
       "  <thead>\n",
       "    <tr style=\"text-align: right;\">\n",
       "      <th></th>\n",
       "      <th>about</th>\n",
       "      <th>link</th>\n",
       "      <th>categoryName</th>\n",
       "      <th>cloud</th>\n",
       "      <th>vintage</th>\n",
       "    </tr>\n",
       "  </thead>\n",
       "  <tbody>\n",
       "    <tr>\n",
       "      <th>0</th>\n",
       "      <td>American Gut (Microbiome Project)</td>\n",
       "      <td>https://github.com/biocore/American-Gut</td>\n",
       "      <td>Biology</td>\n",
       "      <td>GitHub</td>\n",
       "      <td>NaN</td>\n",
       "    </tr>\n",
       "    <tr>\n",
       "      <th>1</th>\n",
       "      <td>Global Biotic Interactions (GloBI)</td>\n",
       "      <td>https://github.com/jhpoelen/eol-globi-data/wik...</td>\n",
       "      <td>Biology</td>\n",
       "      <td>GitHub</td>\n",
       "      <td>NaN</td>\n",
       "    </tr>\n",
       "    <tr>\n",
       "      <th>2</th>\n",
       "      <td>Global Climate Data Since 1929</td>\n",
       "      <td>http://en.tutiempo.net/climate</td>\n",
       "      <td>Climate/Weather</td>\n",
       "      <td>NaN</td>\n",
       "      <td>1929.0</td>\n",
       "    </tr>\n",
       "    <tr>\n",
       "      <th>3</th>\n",
       "      <td>3.5B Web Pages from CommonCraw 2012</td>\n",
       "      <td>http://www.bigdatanews.com/profiles/blogs/big-...</td>\n",
       "      <td>Computer Networks</td>\n",
       "      <td>NaN</td>\n",
       "      <td>2012.0</td>\n",
       "    </tr>\n",
       "    <tr>\n",
       "      <th>4</th>\n",
       "      <td>53.5B Web clicks of 100K users in Indiana Univ.</td>\n",
       "      <td>http://cnets.indiana.edu/groups/nan/webtraffic...</td>\n",
       "      <td>Computer Networks</td>\n",
       "      <td>NaN</td>\n",
       "      <td>NaN</td>\n",
       "    </tr>\n",
       "    <tr>\n",
       "      <th>...</th>\n",
       "      <td>...</td>\n",
       "      <td>...</td>\n",
       "      <td>...</td>\n",
       "      <td>...</td>\n",
       "      <td>...</td>\n",
       "    </tr>\n",
       "    <tr>\n",
       "      <th>56</th>\n",
       "      <td>ClueWeb12 FACC</td>\n",
       "      <td>http://lemurproject.org/clueweb12/FACC1/</td>\n",
       "      <td>Natural Language</td>\n",
       "      <td>NaN</td>\n",
       "      <td>2012.0</td>\n",
       "    </tr>\n",
       "    <tr>\n",
       "      <th>57</th>\n",
       "      <td>Google Books Ngrams (2.2TB)</td>\n",
       "      <td>https://aws.amazon.com/datasets/google-books-n...</td>\n",
       "      <td>Natural Language</td>\n",
       "      <td>Amazon</td>\n",
       "      <td>NaN</td>\n",
       "    </tr>\n",
       "    <tr>\n",
       "      <th>58</th>\n",
       "      <td>EDRM Enron EMail of 151 users, hosted on S3</td>\n",
       "      <td>https://aws.amazon.com/datasets/enron-email-data/</td>\n",
       "      <td>Social Networks</td>\n",
       "      <td>Amazon</td>\n",
       "      <td>NaN</td>\n",
       "    </tr>\n",
       "    <tr>\n",
       "      <th>59</th>\n",
       "      <td>GetGlue - users rating TV shows</td>\n",
       "      <td>http://getglue-data.s3.amazonaws.com/getglue_s...</td>\n",
       "      <td>Social Networks</td>\n",
       "      <td>NaN</td>\n",
       "      <td>NaN</td>\n",
       "    </tr>\n",
       "    <tr>\n",
       "      <th>60</th>\n",
       "      <td>Twitter Data for Online Reputation Management</td>\n",
       "      <td>http://nlp.uned.es/replab2013/</td>\n",
       "      <td>Social Networks</td>\n",
       "      <td>NaN</td>\n",
       "      <td>2013.0</td>\n",
       "    </tr>\n",
       "  </tbody>\n",
       "</table>\n",
       "<p>61 rows × 5 columns</p>\n",
       "</div>"
      ],
      "text/plain": [
       "                                              about  \\\n",
       "0                 American Gut (Microbiome Project)   \n",
       "1                Global Biotic Interactions (GloBI)   \n",
       "2                    Global Climate Data Since 1929   \n",
       "3               3.5B Web Pages from CommonCraw 2012   \n",
       "4   53.5B Web clicks of 100K users in Indiana Univ.   \n",
       "..                                              ...   \n",
       "56                                   ClueWeb12 FACC   \n",
       "57                      Google Books Ngrams (2.2TB)   \n",
       "58      EDRM Enron EMail of 151 users, hosted on S3   \n",
       "59                  GetGlue - users rating TV shows   \n",
       "60    Twitter Data for Online Reputation Management   \n",
       "\n",
       "                                                 link       categoryName  \\\n",
       "0             https://github.com/biocore/American-Gut            Biology   \n",
       "1   https://github.com/jhpoelen/eol-globi-data/wik...            Biology   \n",
       "2                      http://en.tutiempo.net/climate    Climate/Weather   \n",
       "3   http://www.bigdatanews.com/profiles/blogs/big-...  Computer Networks   \n",
       "4   http://cnets.indiana.edu/groups/nan/webtraffic...  Computer Networks   \n",
       "..                                                ...                ...   \n",
       "56           http://lemurproject.org/clueweb12/FACC1/   Natural Language   \n",
       "57  https://aws.amazon.com/datasets/google-books-n...   Natural Language   \n",
       "58  https://aws.amazon.com/datasets/enron-email-data/    Social Networks   \n",
       "59  http://getglue-data.s3.amazonaws.com/getglue_s...    Social Networks   \n",
       "60                     http://nlp.uned.es/replab2013/    Social Networks   \n",
       "\n",
       "     cloud  vintage  \n",
       "0   GitHub      NaN  \n",
       "1   GitHub      NaN  \n",
       "2      NaN   1929.0  \n",
       "3      NaN   2012.0  \n",
       "4      NaN      NaN  \n",
       "..     ...      ...  \n",
       "56     NaN   2012.0  \n",
       "57  Amazon      NaN  \n",
       "58  Amazon      NaN  \n",
       "59     NaN      NaN  \n",
       "60     NaN   2013.0  \n",
       "\n",
       "[61 rows x 5 columns]"
      ]
     },
     "execution_count": 15,
     "metadata": {},
     "output_type": "execute_result"
    }
   ],
   "source": [
    "data"
   ]
  },
  {
   "cell_type": "code",
   "execution_count": 24,
   "id": "c7bd52cb",
   "metadata": {},
   "outputs": [
    {
     "data": {
      "text/html": [
       "<div>\n",
       "<style scoped>\n",
       "    .dataframe tbody tr th:only-of-type {\n",
       "        vertical-align: middle;\n",
       "    }\n",
       "\n",
       "    .dataframe tbody tr th {\n",
       "        vertical-align: top;\n",
       "    }\n",
       "\n",
       "    .dataframe thead th {\n",
       "        text-align: right;\n",
       "    }\n",
       "</style>\n",
       "<table border=\"1\" class=\"dataframe\">\n",
       "  <thead>\n",
       "    <tr style=\"text-align: right;\">\n",
       "      <th></th>\n",
       "      <th>vintage</th>\n",
       "    </tr>\n",
       "  </thead>\n",
       "  <tbody>\n",
       "    <tr>\n",
       "      <th>count</th>\n",
       "      <td>31.000000</td>\n",
       "    </tr>\n",
       "    <tr>\n",
       "      <th>mean</th>\n",
       "      <td>2000.677419</td>\n",
       "    </tr>\n",
       "    <tr>\n",
       "      <th>std</th>\n",
       "      <td>24.436840</td>\n",
       "    </tr>\n",
       "    <tr>\n",
       "      <th>min</th>\n",
       "      <td>1920.000000</td>\n",
       "    </tr>\n",
       "    <tr>\n",
       "      <th>25%</th>\n",
       "      <td>2006.500000</td>\n",
       "    </tr>\n",
       "    <tr>\n",
       "      <th>50%</th>\n",
       "      <td>2009.000000</td>\n",
       "    </tr>\n",
       "    <tr>\n",
       "      <th>75%</th>\n",
       "      <td>2012.000000</td>\n",
       "    </tr>\n",
       "    <tr>\n",
       "      <th>max</th>\n",
       "      <td>2016.000000</td>\n",
       "    </tr>\n",
       "  </tbody>\n",
       "</table>\n",
       "</div>"
      ],
      "text/plain": [
       "           vintage\n",
       "count    31.000000\n",
       "mean   2000.677419\n",
       "std      24.436840\n",
       "min    1920.000000\n",
       "25%    2006.500000\n",
       "50%    2009.000000\n",
       "75%    2012.000000\n",
       "max    2016.000000"
      ]
     },
     "execution_count": 24,
     "metadata": {},
     "output_type": "execute_result"
    }
   ],
   "source": [
    "data.describe()"
   ]
  },
  {
   "cell_type": "code",
   "execution_count": 33,
   "id": "a69b5536",
   "metadata": {},
   "outputs": [],
   "source": [
    "data = data.rename(columns={\"about\":\"infor\",\"vintage\":\"year\"})"
   ]
  },
  {
   "cell_type": "code",
   "execution_count": 35,
   "id": "c5cf6ef6",
   "metadata": {},
   "outputs": [
    {
     "data": {
      "text/plain": [
       "(61, 5)"
      ]
     },
     "execution_count": 35,
     "metadata": {},
     "output_type": "execute_result"
    }
   ],
   "source": [
    "data.shape"
   ]
  },
  {
   "cell_type": "code",
   "execution_count": 36,
   "id": "b1ac66cc",
   "metadata": {},
   "outputs": [
    {
     "data": {
      "text/html": [
       "<div>\n",
       "<style scoped>\n",
       "    .dataframe tbody tr th:only-of-type {\n",
       "        vertical-align: middle;\n",
       "    }\n",
       "\n",
       "    .dataframe tbody tr th {\n",
       "        vertical-align: top;\n",
       "    }\n",
       "\n",
       "    .dataframe thead th {\n",
       "        text-align: right;\n",
       "    }\n",
       "</style>\n",
       "<table border=\"1\" class=\"dataframe\">\n",
       "  <thead>\n",
       "    <tr style=\"text-align: right;\">\n",
       "      <th></th>\n",
       "      <th>infor</th>\n",
       "      <th>link</th>\n",
       "      <th>categoryName</th>\n",
       "      <th>cloud</th>\n",
       "      <th>year</th>\n",
       "    </tr>\n",
       "  </thead>\n",
       "  <tbody>\n",
       "  </tbody>\n",
       "</table>\n",
       "</div>"
      ],
      "text/plain": [
       "Empty DataFrame\n",
       "Columns: [infor, link, categoryName, cloud, year]\n",
       "Index: []"
      ]
     },
     "execution_count": 36,
     "metadata": {},
     "output_type": "execute_result"
    }
   ],
   "source": [
    "dup_rows = data[data.duplicated()]\n",
    "dup_rows"
   ]
  },
  {
   "cell_type": "code",
   "execution_count": 43,
   "id": "a7c4dec8",
   "metadata": {},
   "outputs": [
    {
     "data": {
      "text/html": [
       "<div>\n",
       "<style scoped>\n",
       "    .dataframe tbody tr th:only-of-type {\n",
       "        vertical-align: middle;\n",
       "    }\n",
       "\n",
       "    .dataframe tbody tr th {\n",
       "        vertical-align: top;\n",
       "    }\n",
       "\n",
       "    .dataframe thead th {\n",
       "        text-align: right;\n",
       "    }\n",
       "</style>\n",
       "<table border=\"1\" class=\"dataframe\">\n",
       "  <thead>\n",
       "    <tr style=\"text-align: right;\">\n",
       "      <th></th>\n",
       "      <th>infor</th>\n",
       "      <th>link</th>\n",
       "      <th>categoryName</th>\n",
       "      <th>cloud</th>\n",
       "      <th>year</th>\n",
       "    </tr>\n",
       "  </thead>\n",
       "  <tbody>\n",
       "    <tr>\n",
       "      <th>32</th>\n",
       "      <td>FBI Hate Crime 2013 - aggregated data</td>\n",
       "      <td>https://github.com/emorisse/FBI-Hate-Crime-Sta...</td>\n",
       "      <td>Social Sciences</td>\n",
       "      <td>GitHub</td>\n",
       "      <td>2013.0</td>\n",
       "    </tr>\n",
       "    <tr>\n",
       "      <th>41</th>\n",
       "      <td>NYC Uber trip data April 2014 to September 2014</td>\n",
       "      <td>https://github.com/fivethirtyeight/uber-tlc-fo...</td>\n",
       "      <td>Transportation</td>\n",
       "      <td>GitHub</td>\n",
       "      <td>2014.0</td>\n",
       "    </tr>\n",
       "  </tbody>\n",
       "</table>\n",
       "</div>"
      ],
      "text/plain": [
       "                                              infor  \\\n",
       "32            FBI Hate Crime 2013 - aggregated data   \n",
       "41  NYC Uber trip data April 2014 to September 2014   \n",
       "\n",
       "                                                 link     categoryName  \\\n",
       "32  https://github.com/emorisse/FBI-Hate-Crime-Sta...  Social Sciences   \n",
       "41  https://github.com/fivethirtyeight/uber-tlc-fo...   Transportation   \n",
       "\n",
       "     cloud    year  \n",
       "32  GitHub  2013.0  \n",
       "41  GitHub  2014.0  "
      ]
     },
     "execution_count": 43,
     "metadata": {},
     "output_type": "execute_result"
    }
   ],
   "source": [
    "data.drop_duplicates()\n",
    "data"
   ]
  },
  {
   "cell_type": "code",
   "execution_count": 38,
   "id": "e1d44b39",
   "metadata": {},
   "outputs": [
    {
     "name": "stdout",
     "output_type": "stream",
     "text": [
      "infor            0\n",
      "link             0\n",
      "categoryName     0\n",
      "cloud           37\n",
      "year            30\n",
      "dtype: int64\n"
     ]
    }
   ],
   "source": [
    "print(data.isnull().sum())"
   ]
  },
  {
   "cell_type": "code",
   "execution_count": 41,
   "id": "3ce8c972",
   "metadata": {},
   "outputs": [
    {
     "data": {
      "text/plain": [
       "(2, 5)"
      ]
     },
     "execution_count": 41,
     "metadata": {},
     "output_type": "execute_result"
    }
   ],
   "source": [
    "data.dropna()\n",
    "data.shape"
   ]
  },
  {
   "cell_type": "code",
   "execution_count": 42,
   "id": "aad4a0d6",
   "metadata": {},
   "outputs": [
    {
     "data": {
      "text/html": [
       "<div>\n",
       "<style scoped>\n",
       "    .dataframe tbody tr th:only-of-type {\n",
       "        vertical-align: middle;\n",
       "    }\n",
       "\n",
       "    .dataframe tbody tr th {\n",
       "        vertical-align: top;\n",
       "    }\n",
       "\n",
       "    .dataframe thead th {\n",
       "        text-align: right;\n",
       "    }\n",
       "</style>\n",
       "<table border=\"1\" class=\"dataframe\">\n",
       "  <thead>\n",
       "    <tr style=\"text-align: right;\">\n",
       "      <th></th>\n",
       "      <th>infor</th>\n",
       "      <th>link</th>\n",
       "      <th>categoryName</th>\n",
       "      <th>cloud</th>\n",
       "      <th>year</th>\n",
       "    </tr>\n",
       "  </thead>\n",
       "  <tbody>\n",
       "    <tr>\n",
       "      <th>32</th>\n",
       "      <td>FBI Hate Crime 2013 - aggregated data</td>\n",
       "      <td>https://github.com/emorisse/FBI-Hate-Crime-Sta...</td>\n",
       "      <td>Social Sciences</td>\n",
       "      <td>GitHub</td>\n",
       "      <td>2013.0</td>\n",
       "    </tr>\n",
       "    <tr>\n",
       "      <th>41</th>\n",
       "      <td>NYC Uber trip data April 2014 to September 2014</td>\n",
       "      <td>https://github.com/fivethirtyeight/uber-tlc-fo...</td>\n",
       "      <td>Transportation</td>\n",
       "      <td>GitHub</td>\n",
       "      <td>2014.0</td>\n",
       "    </tr>\n",
       "  </tbody>\n",
       "</table>\n",
       "</div>"
      ],
      "text/plain": [
       "                                              infor  \\\n",
       "32            FBI Hate Crime 2013 - aggregated data   \n",
       "41  NYC Uber trip data April 2014 to September 2014   \n",
       "\n",
       "                                                 link     categoryName  \\\n",
       "32  https://github.com/emorisse/FBI-Hate-Crime-Sta...  Social Sciences   \n",
       "41  https://github.com/fivethirtyeight/uber-tlc-fo...   Transportation   \n",
       "\n",
       "     cloud    year  \n",
       "32  GitHub  2013.0  \n",
       "41  GitHub  2014.0  "
      ]
     },
     "execution_count": 42,
     "metadata": {},
     "output_type": "execute_result"
    }
   ],
   "source": [
    "data"
   ]
  },
  {
   "cell_type": "code",
   "execution_count": null,
   "id": "49c3a48c",
   "metadata": {},
   "outputs": [],
   "source": []
  }
 ],
 "metadata": {
  "kernelspec": {
   "display_name": "Python 3",
   "language": "python",
   "name": "python3"
  },
  "language_info": {
   "codemirror_mode": {
    "name": "ipython",
    "version": 3
   },
   "file_extension": ".py",
   "mimetype": "text/x-python",
   "name": "python",
   "nbconvert_exporter": "python",
   "pygments_lexer": "ipython3",
   "version": "3.13.7"
  }
 },
 "nbformat": 4,
 "nbformat_minor": 5
}
